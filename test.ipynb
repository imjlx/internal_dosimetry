{
 "cells": [
  {
   "cell_type": "markdown",
   "metadata": {
    "collapsed": true,
    "pycharm": {
     "name": "#%% md\n"
    }
   },
   "source": [
    "## 从atlas判断是否取用\n"
   ]
  },
  {
   "cell_type": "code",
   "execution_count": 20,
   "outputs": [],
   "source": [
    "import numpy as np\n",
    "import numba as nb\n",
    "atlas = np.load(\"dataset/patient1/npy/atlas.npy\")\n",
    "x = 240\n",
    "y = 240\n",
    "z = 240\n",
    "atlas = atlas[x:x+128, y:y+128, z:z+128, :]"
   ],
   "metadata": {
    "collapsed": false,
    "pycharm": {
     "name": "#%%\n"
    }
   }
  },
  {
   "cell_type": "code",
   "execution_count": 21,
   "outputs": [],
   "source": [
    "def if_count(atlas, ratio):\n",
    "    is_organ = 0\n",
    "    for i in range(atlas.shape[0]):\n",
    "        for j in range(atlas.shape[1]):\n",
    "            for k in range(atlas.shape[2]):\n",
    "                if atlas[i, j, k, 0] != 0:\n",
    "                    is_organ += 1\n",
    "    if is_organ > ratio * atlas.size:\n",
    "        return True\n",
    "    else:\n",
    "        return False\n",
    "\n",
    "@nb.jit\n",
    "def if_count_nb(atlas, ratio):\n",
    "    is_organ = 0\n",
    "    for i in range(atlas.shape[0]):\n",
    "        for j in range(atlas.shape[1]):\n",
    "            for k in range(atlas.shape[2]):\n",
    "                if atlas[i, j, k, 0] != 0:\n",
    "                    is_organ += 1\n",
    "    if is_organ > ratio * atlas.size:\n",
    "        return True\n",
    "    else:\n",
    "        return False\n",
    "\n",
    "def if_count_np(atlas, ratio):\n",
    "    n_count = np.sum(atlas > 0)\n",
    "    if n_count/atlas.size > ratio:\n",
    "        return True\n",
    "    else:\n",
    "        return False"
   ],
   "metadata": {
    "collapsed": false,
    "pycharm": {
     "name": "#%%\n"
    }
   }
  },
  {
   "cell_type": "code",
   "execution_count": 22,
   "outputs": [
    {
     "name": "stdout",
     "output_type": "stream",
     "text": [
      "2.13 s ± 31.7 ms per loop (mean ± std. dev. of 7 runs, 1 loop each)\n",
      "3.04 ms ± 34.2 µs per loop (mean ± std. dev. of 7 runs, 100 loops each)\n",
      "3.21 ms ± 20.8 µs per loop (mean ± std. dev. of 7 runs, 100 loops each)\n"
     ]
    }
   ],
   "source": [
    "t1 = %timeit -o if_count(atlas, 0.5)\n",
    "t2 = %timeit -o if_count_np(atlas, 0.5)\n",
    "if_count_nb(atlas, 0.5)\n",
    "t3 = %timeit -o if_count_nb(atlas, 0.5)"
   ],
   "metadata": {
    "collapsed": false,
    "pycharm": {
     "name": "#%%\n"
    }
   }
  },
  {
   "cell_type": "code",
   "execution_count": 23,
   "outputs": [
    {
     "name": "stdout",
     "output_type": "stream",
     "text": [
      "NumPy sum比循环快703.37倍\n",
      "Numba jit比循环快665.30倍\n",
      "简单的Numba jit与NumPy sum效果接近, 但略慢1.06\n"
     ]
    }
   ],
   "source": [
    "print(\"NumPy sum比循环快%.2f倍\"%(t1.average/t2.average))\n",
    "print(\"Numba jit比循环快%.2f倍\"%(t1.average/t3.average))\n",
    "print(\"简单的Numba jit与NumPy sum效果接近, 但略慢%.2f\"%(t3.average/t2.average))"
   ],
   "metadata": {
    "collapsed": false,
    "pycharm": {
     "name": "#%%\n"
    }
   }
  },
  {
   "cell_type": "markdown",
   "source": [
    "## 对整个人体进行遍历"
   ],
   "metadata": {
    "collapsed": false,
    "pycharm": {
     "name": "#%% md\n"
    }
   }
  },
  {
   "cell_type": "code",
   "execution_count": 31,
   "outputs": [],
   "source": [
    "import numpy as np\n",
    "import numba as nb\n",
    "\n",
    "def create_patch(atlas, size=128, step=16, ratio=0.5):\n",
    "    # 计算每个维度可取的个数\n",
    "    n_i = np.floor((atlas.shape[0]-size)/step) + 1\n",
    "    n_j = np.floor((atlas.shape[1]-size)/step) + 1\n",
    "    n_k = np.floor((atlas.shape[2]-size)/step) + 1\n",
    "\n",
    "    # 记录个数\n",
    "    count_index = []\n",
    "    # 对所有的起始点进行遍历\n",
    "    for i in np.arange(0, step*n_i, step, dtype=np.uint16):\n",
    "        for j in np.arange(0, step*n_j, step, dtype=np.uint16):\n",
    "            for k in np.arange(0, step*n_k, step, dtype=np.uint16):\n",
    "                atlas_patch = atlas[i:i+size, j:j+size, k:k+size, :]\n",
    "\n",
    "                if np.sum(atlas_patch > 0)/atlas_patch.size > ratio:\n",
    "                    count_index.append([i, j, k])\n",
    "    return count_index\n",
    "\n",
    "@nb.jit\n",
    "def create_patch_jit(atlas, size=128, step=16, ratio=0.5):\n",
    "    # 计算每个维度可取的个数\n",
    "    n_i = np.floor((atlas.shape[0]-size)/step) + 1\n",
    "    n_j = np.floor((atlas.shape[1]-size)/step) + 1\n",
    "    n_k = np.floor((atlas.shape[2]-size)/step) + 1\n",
    "\n",
    "    # 记录个数\n",
    "    count_index = []\n",
    "    # 对所有的起始点进行遍历\n",
    "    for i in np.arange(0, step*n_i, step, dtype=np.uint16):\n",
    "        for j in np.arange(0, step*n_j, step, dtype=np.uint16):\n",
    "            for k in np.arange(0, step*n_k, step, dtype=np.uint16):\n",
    "\n",
    "                atlas_patch = atlas[i:i+size, j:j+size, k:k+size, :]\n",
    "                if np.sum(atlas_patch > 0)/atlas_patch.size > ratio:\n",
    "                    count_index.append([i, j, k])\n",
    "    return count_index\n",
    "\n",
    "\n",
    "atlas = np.load(\"dataset/patient1/npy/atlas.npy\")"
   ],
   "metadata": {
    "collapsed": false,
    "pycharm": {
     "name": "#%%\n"
    }
   }
  },
  {
   "cell_type": "code",
   "execution_count": 26,
   "outputs": [
    {
     "name": "stdout",
     "output_type": "stream",
     "text": [
      "简单循环:39.16s\n",
      "简单循环+jit:110.08s\n"
     ]
    }
   ],
   "source": [
    "import time\n",
    "\n",
    "t1 = time.time()\n",
    "index_loop = create_patch(atlas)\n",
    "t2 = time.time()\n",
    "print(\"简单循环:%.2fs\"%(t2-t1))\n",
    "\n",
    "t3 = time.time()\n",
    "index_jit = create_patch_jit(atlas)\n",
    "t4 = time.time()\n",
    "print(\"简单循环+jit:%.2fs\"%(t4-t3))"
   ],
   "metadata": {
    "collapsed": false,
    "pycharm": {
     "name": "#%%\n"
    }
   }
  },
  {
   "cell_type": "code",
   "execution_count": 102,
   "outputs": [
    {
     "name": "stdout",
     "output_type": "stream",
     "text": [
      "并行循环:7.09s\n"
     ]
    }
   ],
   "source": [
    "@nb.jit(parallel=True)\n",
    "def create_patch_parallel(atlas, size=128, step=16, ratio=0.5):\n",
    "    # 计算每个维度可取的个数\n",
    "    n_i = int(np.floor((atlas.shape[0]-size)/step) + 1)\n",
    "    n_j = int(np.floor((atlas.shape[1]-size)/step) + 1)\n",
    "    n_k = int(np.floor((atlas.shape[2]-size)/step) + 1)\n",
    "    # 记录个数\n",
    "    count_index = []\n",
    "    # 对所有的起始点进行遍历\n",
    "    for i in range(n_i):\n",
    "        i *= step\n",
    "        for j in range(n_j):\n",
    "            j *= step\n",
    "            for k in range(n_k):\n",
    "                k *= step\n",
    "\n",
    "                atlas_patch = atlas[i:i+size, j:j+size, k:k+size, :]\n",
    "                if np.sum(atlas_patch > 0)/atlas_patch.size > ratio:\n",
    "                    count_index.append([i, j, k])\n",
    "    return count_index\n",
    "\n",
    "atlas = np.load(\"dataset/patient1/npy/atlas.npy\")\n",
    "t3 = time.time()\n",
    "index_parallel = create_patch_parallel(atlas)\n",
    "t4 = time.time()\n",
    "print(\"并行循环:%.2fs\"%(t4-t3))"
   ],
   "metadata": {
    "collapsed": false,
    "pycharm": {
     "name": "#%%\n"
    }
   }
  },
  {
   "cell_type": "code",
   "execution_count": 99,
   "outputs": [
    {
     "name": "stdout",
     "output_type": "stream",
     "text": [
      "122\n",
      "True\n"
     ]
    }
   ],
   "source": [
    "print(len(index_parallel))\n",
    "print(index_parallel==index_loop)"
   ],
   "metadata": {
    "collapsed": false,
    "pycharm": {
     "name": "#%%\n"
    }
   }
  },
  {
   "cell_type": "code",
   "execution_count": 103,
   "outputs": [
    {
     "name": "stderr",
     "output_type": "stream",
     "text": [
      "<ipython-input-103-1a860e704489>:1: NumbaWarning: \u001B[1m\n",
      "Compilation is falling back to object mode WITHOUT looplifting enabled because Function \"create_patch_parallel\" failed type inference due to: \u001B[1m\u001B[1mCannot determine Numba type of <class 'numba.core.dispatcher.LiftedLoop'>\u001B[0m\n",
      "\u001B[1m\n",
      "File \"<ipython-input-103-1a860e704489>\", line 10:\u001B[0m\n",
      "\u001B[1mdef create_patch_parallel(atlas, size=128, step=16, ratio=0.5):\n",
      "    <source elided>\n",
      "    # 对所有的起始点进行遍历\n",
      "\u001B[1m    for i in np.arange(0, step*n_i, step, dtype=np.uint16):\n",
      "\u001B[0m    \u001B[1m^\u001B[0m\u001B[0m\n",
      "\u001B[0m\u001B[0m\n",
      "  @nb.jit(parallel=True)\n",
      "D:\\MySoftware\\anaconda3\\lib\\site-packages\\numba\\core\\object_mode_passes.py:151: NumbaWarning: \u001B[1mFunction \"create_patch_parallel\" was compiled in object mode without forceobj=True, but has lifted loops.\n",
      "\u001B[1m\n",
      "File \"<ipython-input-103-1a860e704489>\", line 4:\u001B[0m\n",
      "\u001B[1mdef create_patch_parallel(atlas, size=128, step=16, ratio=0.5):\n",
      "    <source elided>\n",
      "    # 计算每个维度可取的个数\n",
      "\u001B[1m    n_i = int(np.floor((atlas.shape[0]-size)/step) + 1)\n",
      "\u001B[0m    \u001B[1m^\u001B[0m\u001B[0m\n",
      "\u001B[0m\n",
      "  warnings.warn(errors.NumbaWarning(warn_msg,\n",
      "D:\\MySoftware\\anaconda3\\lib\\site-packages\\numba\\core\\object_mode_passes.py:161: NumbaDeprecationWarning: \u001B[1m\n",
      "Fall-back from the nopython compilation path to the object mode compilation path has been detected, this is deprecated behaviour.\n",
      "\n",
      "For more information visit https://numba.pydata.org/numba-doc/latest/reference/deprecation.html#deprecation-of-object-mode-fall-back-behaviour-when-using-jit\n",
      "\u001B[1m\n",
      "File \"<ipython-input-103-1a860e704489>\", line 4:\u001B[0m\n",
      "\u001B[1mdef create_patch_parallel(atlas, size=128, step=16, ratio=0.5):\n",
      "    <source elided>\n",
      "    # 计算每个维度可取的个数\n",
      "\u001B[1m    n_i = int(np.floor((atlas.shape[0]-size)/step) + 1)\n",
      "\u001B[0m    \u001B[1m^\u001B[0m\u001B[0m\n",
      "\u001B[0m\n",
      "  warnings.warn(errors.NumbaDeprecationWarning(msg,\n",
      "<ipython-input-103-1a860e704489>:1: NumbaWarning: \u001B[1m\n",
      "Compilation is falling back to object mode WITHOUT looplifting enabled because Function \"create_patch_parallel\" failed type inference due to: \u001B[1m\u001B[1mnon-precise type pyobject\u001B[0m\n",
      "\u001B[0m\u001B[1mDuring: typing of argument at <ipython-input-103-1a860e704489> (10)\u001B[0m\n",
      "\u001B[1m\n",
      "File \"<ipython-input-103-1a860e704489>\", line 10:\u001B[0m\n",
      "\u001B[1mdef create_patch_parallel(atlas, size=128, step=16, ratio=0.5):\n",
      "    <source elided>\n",
      "    # 对所有的起始点进行遍历\n",
      "\u001B[1m    for i in np.arange(0, step*n_i, step, dtype=np.uint16):\n",
      "\u001B[0m    \u001B[1m^\u001B[0m\u001B[0m\n",
      "\u001B[0m\n",
      "  @nb.jit(parallel=True)\n",
      "D:\\MySoftware\\anaconda3\\lib\\site-packages\\numba\\core\\object_mode_passes.py:151: NumbaWarning: \u001B[1mFunction \"create_patch_parallel\" was compiled in object mode without forceobj=True.\n",
      "\u001B[1m\n",
      "File \"<ipython-input-103-1a860e704489>\", line 10:\u001B[0m\n",
      "\u001B[1mdef create_patch_parallel(atlas, size=128, step=16, ratio=0.5):\n",
      "    <source elided>\n",
      "    # 对所有的起始点进行遍历\n",
      "\u001B[1m    for i in np.arange(0, step*n_i, step, dtype=np.uint16):\n",
      "\u001B[0m    \u001B[1m^\u001B[0m\u001B[0m\n",
      "\u001B[0m\n",
      "  warnings.warn(errors.NumbaWarning(warn_msg,\n",
      "D:\\MySoftware\\anaconda3\\lib\\site-packages\\numba\\core\\object_mode_passes.py:161: NumbaDeprecationWarning: \u001B[1m\n",
      "Fall-back from the nopython compilation path to the object mode compilation path has been detected, this is deprecated behaviour.\n",
      "\n",
      "For more information visit https://numba.pydata.org/numba-doc/latest/reference/deprecation.html#deprecation-of-object-mode-fall-back-behaviour-when-using-jit\n",
      "\u001B[1m\n",
      "File \"<ipython-input-103-1a860e704489>\", line 10:\u001B[0m\n",
      "\u001B[1mdef create_patch_parallel(atlas, size=128, step=16, ratio=0.5):\n",
      "    <source elided>\n",
      "    # 对所有的起始点进行遍历\n",
      "\u001B[1m    for i in np.arange(0, step*n_i, step, dtype=np.uint16):\n",
      "\u001B[0m    \u001B[1m^\u001B[0m\u001B[0m\n",
      "\u001B[0m\n",
      "  warnings.warn(errors.NumbaDeprecationWarning(msg,\n"
     ]
    },
    {
     "name": "stdout",
     "output_type": "stream",
     "text": [
      "并行循环:40.36s\n"
     ]
    }
   ],
   "source": [
    "@nb.jit(parallel=True)\n",
    "def create_patch_parallel(atlas, size=128, step=16, ratio=0.5):\n",
    "    # 计算每个维度可取的个数\n",
    "    n_i = int(np.floor((atlas.shape[0]-size)/step) + 1)\n",
    "    n_j = int(np.floor((atlas.shape[1]-size)/step) + 1)\n",
    "    n_k = int(np.floor((atlas.shape[2]-size)/step) + 1)\n",
    "    # 记录个数\n",
    "    count_index = []\n",
    "    # 对所有的起始点进行遍历\n",
    "    for i in np.arange(0, step*n_i, step, dtype=np.uint16):\n",
    "        for j in np.arange(0, step*n_j, step, dtype=np.uint16):\n",
    "            for k in np.arange(0, step*n_k, step, dtype=np.uint16):\n",
    "\n",
    "                atlas_patch = atlas[i:i+size, j:j+size, k:k+size, :]\n",
    "                if np.sum(atlas_patch > 0)/atlas_patch.size > ratio:\n",
    "                    count_index.append([i, j, k])\n",
    "    return count_index\n",
    "\n",
    "atlas = np.load(\"dataset/patient1/npy/atlas.npy\")\n",
    "t3 = time.time()\n",
    "index_parallel = create_patch_parallel(atlas)\n",
    "t4 = time.time()\n",
    "print(\"并行循环:%.2fs\"%(t4-t3))"
   ],
   "metadata": {
    "collapsed": false,
    "pycharm": {
     "name": "#%%\n"
    }
   }
  },
  {
   "cell_type": "code",
   "execution_count": 104,
   "outputs": [
    {
     "name": "stdout",
     "output_type": "stream",
     "text": [
      "并行循环:113.73s\n"
     ]
    }
   ],
   "source": [
    "@nb.jit\n",
    "def create_patch_parallel(atlas, size=128, step=16, ratio=0.5):\n",
    "    # 计算每个维度可取的个数\n",
    "    n_i = int(np.floor((atlas.shape[0]-size)/step) + 1)\n",
    "    n_j = int(np.floor((atlas.shape[1]-size)/step) + 1)\n",
    "    n_k = int(np.floor((atlas.shape[2]-size)/step) + 1)\n",
    "    # 记录个数\n",
    "    count_index = []\n",
    "    # 对所有的起始点进行遍历\n",
    "    for i in range(n_i):\n",
    "        i *= step\n",
    "        for j in range(n_j):\n",
    "            j *= step\n",
    "            for k in range(n_k):\n",
    "                k *= step\n",
    "\n",
    "                atlas_patch = atlas[i:i+size, j:j+size, k:k+size, :]\n",
    "                if np.sum(atlas_patch > 0)/atlas_patch.size > ratio:\n",
    "                    count_index.append([i, j, k])\n",
    "    return count_index\n",
    "\n",
    "atlas = np.load(\"dataset/patient1/npy/atlas.npy\")\n",
    "t3 = time.time()\n",
    "index_jit = create_patch_parallel(atlas)\n",
    "t4 = time.time()\n",
    "print(\"并行循环:%.2fs\"%(t4-t3))"
   ],
   "metadata": {
    "collapsed": false,
    "pycharm": {
     "name": "#%%\n"
    }
   }
  },
  {
   "cell_type": "code",
   "execution_count": 110,
   "outputs": [
    {
     "name": "stdout",
     "output_type": "stream",
     "text": [
      "1\n",
      "2\n",
      "3\n",
      "\n",
      "4\n",
      "5\n",
      "6\n",
      "\n"
     ]
    }
   ],
   "source": [
    "index = [[1,2,3],[4,5,6]]\n",
    "arr = np.array(index)\n",
    "for i, j, k in arr:\n",
    "    print(i)\n",
    "    print(j)\n",
    "    print(k)\n",
    "    print()"
   ],
   "metadata": {
    "collapsed": false,
    "pycharm": {
     "name": "#%%\n"
    }
   }
  },
  {
   "cell_type": "code",
   "execution_count": 112,
   "outputs": [
    {
     "data": {
      "text/plain": "True"
     },
     "execution_count": 112,
     "metadata": {},
     "output_type": "execute_result"
    }
   ],
   "source": [
    "import os\n",
    "os.path.exists(\"dataset\")"
   ],
   "metadata": {
    "collapsed": false,
    "pycharm": {
     "name": "#%%\n"
    }
   }
  },
  {
   "cell_type": "code",
   "execution_count": 115,
   "outputs": [
    {
     "data": {
      "text/plain": "False"
     },
     "execution_count": 115,
     "metadata": {},
     "output_type": "execute_result"
    }
   ],
   "source": [
    "os.path.exists(\"dataset/test.md\")"
   ],
   "metadata": {
    "collapsed": false,
    "pycharm": {
     "name": "#%%\n"
    }
   }
  },
  {
   "cell_type": "code",
   "execution_count": 128,
   "outputs": [
    {
     "name": "stdout",
     "output_type": "stream",
     "text": [
      "False\n",
      "True\n"
     ]
    }
   ],
   "source": [
    "print(os.path.exists(\"dataset/test/1/1\"))\n",
    "os.makedirs(\"dataset/test/1/1\")\n",
    "print(os.path.exists(\"dataset/test/1/1\"))"
   ],
   "metadata": {
    "collapsed": false,
    "pycharm": {
     "name": "#%%\n"
    }
   }
  },
  {
   "cell_type": "code",
   "execution_count": 124,
   "outputs": [
    {
     "data": {
      "text/plain": "'dataset/test/1/1'"
     },
     "execution_count": 124,
     "metadata": {},
     "output_type": "execute_result"
    }
   ],
   "source": [
    "os.path.dirname(\"dataset/test/1/1/text.txt\")"
   ],
   "metadata": {
    "collapsed": false,
    "pycharm": {
     "name": "#%%\n"
    }
   }
  },
  {
   "cell_type": "code",
   "execution_count": 125,
   "outputs": [
    {
     "data": {
      "text/plain": "'text.txt'"
     },
     "execution_count": 125,
     "metadata": {},
     "output_type": "execute_result"
    }
   ],
   "source": [
    "os.path.basename(\"dataset/test/1/1/text.txt\")"
   ],
   "metadata": {
    "collapsed": false,
    "pycharm": {
     "name": "#%%\n"
    }
   }
  },
  {
   "cell_type": "code",
   "execution_count": 133,
   "outputs": [
    {
     "data": {
      "text/plain": "2"
     },
     "execution_count": 133,
     "metadata": {},
     "output_type": "execute_result"
    }
   ],
   "source": [
    "a = np.array([[1,2,3],[4,5,6]])\n",
    "len(a)"
   ],
   "metadata": {
    "collapsed": false,
    "pycharm": {
     "name": "#%%\n"
    }
   }
  },
  {
   "cell_type": "code",
   "execution_count": null,
   "outputs": [],
   "source": [],
   "metadata": {
    "collapsed": false,
    "pycharm": {
     "name": "#%%\n"
    }
   }
  }
 ],
 "metadata": {
  "kernelspec": {
   "name": "jupy",
   "language": "python",
   "display_name": "'Python(base)'"
  },
  "language_info": {
   "codemirror_mode": {
    "name": "ipython",
    "version": 2
   },
   "file_extension": ".py",
   "mimetype": "text/x-python",
   "name": "python",
   "nbconvert_exporter": "python",
   "pygments_lexer": "ipython2",
   "version": "2.7.6"
  }
 },
 "nbformat": 4,
 "nbformat_minor": 0
}