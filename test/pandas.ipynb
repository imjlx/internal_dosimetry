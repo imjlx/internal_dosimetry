{
 "cells": [
  {
   "cell_type": "code",
   "execution_count": 1,
   "metadata": {
    "collapsed": true
   },
   "outputs": [],
   "source": [
    "import pandas as pd"
   ]
  },
  {
   "cell_type": "code",
   "execution_count": 2,
   "outputs": [
    {
     "name": "stdout",
     "output_type": "stream",
     "text": [
      "   ct_voxel_size_x  ct_voxel_size_y  ct_voxel_size_z\n",
      "0              1.5              1.5              1.5\n",
      "1              1.6              1.6              1.6\n"
     ]
    }
   ],
   "source": [
    "data = [{'ct_voxel_size_x':1.5, 'ct_voxel_size_y':1.5, 'ct_voxel_size_z':1.5},\n",
    "        {'ct_voxel_size_x':1.6, 'ct_voxel_size_y':1.6, 'ct_voxel_size_z':1.6}]\n",
    "\n",
    "df = pd.DataFrame(data)\n",
    "\n",
    "print(df)"
   ],
   "metadata": {
    "collapsed": false,
    "pycharm": {
     "name": "#%%\n"
    }
   }
  },
  {
   "cell_type": "code",
   "execution_count": 3,
   "outputs": [
    {
     "name": "stdout",
     "output_type": "stream",
     "text": [
      "   ct_voxel_size_x  ct_voxel_size_y  ct_voxel_size_z\n",
      "0              1.5              1.5              1.5\n",
      "1              1.6              1.6              1.6\n",
      "2              1.7              1.7              1.7\n"
     ]
    }
   ],
   "source": [
    "df.loc[2] = [1.7, 1.7, 1.7]\n",
    "\n",
    "print(df)"
   ],
   "metadata": {
    "collapsed": false,
    "pycharm": {
     "name": "#%%\n"
    }
   }
  },
  {
   "cell_type": "code",
   "execution_count": 4,
   "outputs": [
    {
     "name": "stdout",
     "output_type": "stream",
     "text": [
      "          ct_voxel_size_x  ct_voxel_size_y  ct_voxel_size_z\n",
      "0                     1.5              1.5              1.5\n",
      "1                     1.6              1.6              1.6\n",
      "2                     1.7              1.7              1.7\n",
      "patient1              1.8              1.7              1.7\n"
     ]
    }
   ],
   "source": [
    "df.loc[\"patient1\"] = [1.8, 1.7, 1.7]\n",
    "\n",
    "print(df)"
   ],
   "metadata": {
    "collapsed": false,
    "pycharm": {
     "name": "#%%\n"
    }
   }
  },
  {
   "cell_type": "code",
   "execution_count": 6,
   "outputs": [],
   "source": [
    "df.to_excel(\"saved_test.xlsx\")"
   ],
   "metadata": {
    "collapsed": false,
    "pycharm": {
     "name": "#%%\n"
    }
   }
  },
  {
   "cell_type": "code",
   "execution_count": 7,
   "outputs": [
    {
     "name": "stdout",
     "output_type": "stream",
     "text": [
      "  Unnamed: 0  ct_voxel_size_x  ct_voxel_size_y  ct_voxel_size_z\n",
      "0          0              1.5              1.5              1.5\n",
      "1          1              1.6              1.6              1.6\n",
      "2          2              1.7              1.7              1.7\n",
      "3   patient1              1.8              1.7              1.7\n"
     ]
    }
   ],
   "source": [
    "dd = pd.read_excel(\"saved_test.xlsx\")\n",
    "print(dd)"
   ],
   "metadata": {
    "collapsed": false,
    "pycharm": {
     "name": "#%%\n"
    }
   }
  },
  {
   "cell_type": "code",
   "execution_count": 14,
   "outputs": [
    {
     "name": "stdout",
     "output_type": "stream",
     "text": [
      "          ct_voxel_size_x  ct_voxel_size_y  ct_voxel_size_z\n",
      "id                                                         \n",
      "0                     1.5              1.5              1.5\n",
      "1                     1.6              1.6              1.6\n",
      "2                     1.7              1.7              1.7\n",
      "patient1              1.8              1.7              1.7\n"
     ]
    }
   ],
   "source": [
    "dd = pd.read_excel(\"saved_test.xlsx\", index_col=\"id\")\n",
    "print(dd)"
   ],
   "metadata": {
    "collapsed": false,
    "pycharm": {
     "name": "#%%\n"
    }
   }
  },
  {
   "cell_type": "code",
   "execution_count": 19,
   "outputs": [
    {
     "name": "stdout",
     "output_type": "stream",
     "text": [
      "          ct_voxel_size_x  ct_voxel_size_y  ct_voxel_size_z\n",
      "id                                                         \n",
      "0                     1.5              1.5              1.5\n",
      "1                     1.6              1.6              1.6\n",
      "2                     1.7              1.7              1.7\n",
      "patient1              1.8              1.7              1.7\n",
      "3                     1.0              2.0              3.0\n"
     ]
    }
   ],
   "source": [
    "dd.loc[3] = [1, 2, 3]\n",
    "print(dd)\n",
    "dd.to_excel(\"saved_test.xlsx\")"
   ],
   "metadata": {
    "collapsed": false,
    "pycharm": {
     "name": "#%%\n"
    }
   }
  },
  {
   "cell_type": "code",
   "execution_count": 75,
   "outputs": [
    {
     "data": {
      "text/plain": "pixdimx    1.523438\npixdimy    1.523438\npixdimz    1.523438\nName: 1_ct, dtype: float64"
     },
     "execution_count": 75,
     "metadata": {},
     "output_type": "execute_result"
    }
   ],
   "source": [
    "df = pd.read_excel(\"info.xlsx\", index_col=\"ID\")\n",
    "\n",
    "df.loc[\"1_ct\", \"pixdimx\":\"pixdimz\"]"
   ],
   "metadata": {
    "collapsed": false,
    "pycharm": {
     "name": "#%%\n"
    }
   }
  },
  {
   "cell_type": "code",
   "execution_count": 76,
   "outputs": [
    {
     "data": {
      "text/plain": "dimx       512.000000\ndimy       512.000000\ndimz       443.000000\npixdimx      1.523438\npixdimy      1.523438\npixdimz      1.523438\nName: 1_ct, dtype: float64"
     },
     "execution_count": 76,
     "metadata": {},
     "output_type": "execute_result"
    }
   ],
   "source": [
    "df.loc[\"1_ct\"]"
   ],
   "metadata": {
    "collapsed": false,
    "pycharm": {
     "name": "#%%\n"
    }
   }
  },
  {
   "cell_type": "code",
   "execution_count": 78,
   "outputs": [
    {
     "data": {
      "text/plain": "False"
     },
     "execution_count": 78,
     "metadata": {},
     "output_type": "execute_result"
    }
   ],
   "source": [
    "a = \"a\"\n",
    "a in [\"d\", \"b\", \"c\"]"
   ],
   "metadata": {
    "collapsed": false,
    "pycharm": {
     "name": "#%%\n"
    }
   }
  },
  {
   "cell_type": "code",
   "execution_count": 83,
   "outputs": [
    {
     "data": {
      "text/plain": "3.8333333333333335"
     },
     "execution_count": 83,
     "metadata": {},
     "output_type": "execute_result"
    }
   ],
   "source": [
    "import numpy as np\n",
    "a = np.array([[1, 2, 3],[4, 5, 8]])\n",
    "np.average(a)"
   ],
   "metadata": {
    "collapsed": false,
    "pycharm": {
     "name": "#%%\n"
    }
   }
  },
  {
   "cell_type": "code",
   "execution_count": 84,
   "outputs": [
    {
     "data": {
      "text/plain": "3.5"
     },
     "execution_count": 84,
     "metadata": {},
     "output_type": "execute_result"
    }
   ],
   "source": [
    "np.median(a)\n"
   ],
   "metadata": {
    "collapsed": false,
    "pycharm": {
     "name": "#%%\n"
    }
   }
  },
  {
   "cell_type": "code",
   "execution_count": null,
   "outputs": [],
   "source": [],
   "metadata": {
    "collapsed": false,
    "pycharm": {
     "name": "#%%\n"
    }
   }
  }
 ],
 "metadata": {
  "kernelspec": {
   "name": "jupy",
   "language": "python",
   "display_name": "'Python(base)'"
  },
  "language_info": {
   "codemirror_mode": {
    "name": "ipython",
    "version": 2
   },
   "file_extension": ".py",
   "mimetype": "text/x-python",
   "name": "python",
   "nbconvert_exporter": "python",
   "pygments_lexer": "ipython2",
   "version": "2.7.6"
  }
 },
 "nbformat": 4,
 "nbformat_minor": 0
}